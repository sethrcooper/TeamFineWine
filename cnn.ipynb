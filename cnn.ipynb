{
 "cells": [
  {
   "attachments": {},
   "cell_type": "markdown",
   "metadata": {},
   "source": [
    "### Importing and Cleaning Data"
   ]
  },
  {
   "cell_type": "code",
   "execution_count": 14,
   "metadata": {},
   "outputs": [],
   "source": [
    "import numpy as np\n",
    "import pandas as pd\n",
    "from sklearn.model_selection import train_test_split\n",
    "\n",
    "ORIGINAL_DATASET = \"WineQT.xlsx\"\n",
    "\n",
    "ORIGINAL_DATA_COLUMNS = { \"fixed acidity\": float,\t\"volatile acidity\": float,\t\"citric acid\": float,\t\"residual sugar\": float,\n",
    "                    \"chlorides\": float,\t\"free sulfur dioxide\": float,\t\"total sulfur dioxide\": float,\t\"density\": float,\t\"pH\": float,\n",
    "                    \"sulphates\": float,\t\"alcohol\": float,\t\"quality\": float, \"Id\": float}\n",
    "\n",
    "df = pd.read_excel(ORIGINAL_DATASET, dtype=ORIGINAL_DATA_COLUMNS)\n",
    "\n",
    "X = np.array(df.iloc[:, 0:11].values)\n",
    "y = np.array(df.iloc[:, 11].values)\n",
    "\n",
    "X_train, X_test, y_train, y_test = train_test_split(X, y, test_size=0.33)\n",
    "\n",
    "X_train = np.reshape(X_train, (X_train.shape[0], X_train.shape[1], 1, 1))\n",
    "X_test = np.reshape(X_test, (X_test.shape[0], X_test.shape[1], 1, 1))"
   ]
  },
  {
   "attachments": {},
   "cell_type": "markdown",
   "metadata": {},
   "source": [
    "### Building CNN"
   ]
  },
  {
   "cell_type": "code",
   "execution_count": 15,
   "metadata": {},
   "outputs": [
    {
     "name": "stdout",
     "output_type": "stream",
     "text": [
      "Model: \"sequential_3\"\n",
      "_________________________________________________________________\n",
      "Layer (type)                 Output Shape              Param #   \n",
      "=================================================================\n",
      "conv2d_6 (Conv2D)            (None, 11, 1, 32)         64        \n",
      "_________________________________________________________________\n",
      "max_pooling2d_4 (MaxPooling2 (None, 11, 1, 32)         0         \n",
      "_________________________________________________________________\n",
      "conv2d_7 (Conv2D)            (None, 11, 1, 64)         2112      \n",
      "_________________________________________________________________\n",
      "max_pooling2d_5 (MaxPooling2 (None, 11, 1, 64)         0         \n",
      "_________________________________________________________________\n",
      "conv2d_8 (Conv2D)            (None, 11, 1, 64)         4160      \n",
      "_________________________________________________________________\n",
      "flatten_3 (Flatten)          (None, 704)               0         \n",
      "_________________________________________________________________\n",
      "dense_6 (Dense)              (None, 64)                45120     \n",
      "_________________________________________________________________\n",
      "dense_7 (Dense)              (None, 10)                650       \n",
      "=================================================================\n",
      "Total params: 52,106\n",
      "Trainable params: 52,106\n",
      "Non-trainable params: 0\n",
      "_________________________________________________________________\n"
     ]
    }
   ],
   "source": [
    "import tensorflow as tf\n",
    "\n",
    "from tensorflow.python.keras import layers, models\n",
    "import matplotlib.pyplot as plt\n",
    "\n",
    "model = models.Sequential()\n",
    "model.add(layers.Conv2D(32, (1, 1), activation='relu', input_shape=(11, 1, 1)))\n",
    "model.add(layers.MaxPooling2D((1, 1)))\n",
    "model.add(layers.Conv2D(64, (1, 1), activation='relu'))\n",
    "model.add(layers.MaxPooling2D((1, 1)))\n",
    "model.add(layers.Conv2D(64, (1, 1), activation='relu'))\n",
    "model.add(layers.Flatten())\n",
    "model.add(layers.Dense(64, activation='relu'))\n",
    "model.add(layers.Dense(10))\n",
    "model.summary()"
   ]
  },
  {
   "attachments": {},
   "cell_type": "markdown",
   "metadata": {},
   "source": [
    "### Compiling and Training CNN"
   ]
  },
  {
   "cell_type": "code",
   "execution_count": 16,
   "metadata": {},
   "outputs": [
    {
     "name": "stdout",
     "output_type": "stream",
     "text": [
      "Epoch 1/20\n",
      "24/24 [==============================] - 1s 11ms/step - loss: 1.4147 - accuracy: 0.4549 - val_loss: 1.2726 - val_accuracy: 0.5000\n",
      "Epoch 2/20\n",
      "24/24 [==============================] - 0s 5ms/step - loss: 1.1604 - accuracy: 0.5124 - val_loss: 1.2566 - val_accuracy: 0.5000\n",
      "Epoch 3/20\n",
      "24/24 [==============================] - 0s 5ms/step - loss: 1.1467 - accuracy: 0.4771 - val_loss: 1.2272 - val_accuracy: 0.5106\n",
      "Epoch 4/20\n",
      "24/24 [==============================] - 0s 5ms/step - loss: 1.1455 - accuracy: 0.4784 - val_loss: 1.2484 - val_accuracy: 0.4683\n",
      "Epoch 5/20\n",
      "24/24 [==============================] - 0s 5ms/step - loss: 1.1266 - accuracy: 0.5085 - val_loss: 1.2014 - val_accuracy: 0.5132\n",
      "Epoch 6/20\n",
      "24/24 [==============================] - 0s 5ms/step - loss: 1.1100 - accuracy: 0.5124 - val_loss: 1.2061 - val_accuracy: 0.5079\n",
      "Epoch 7/20\n",
      "24/24 [==============================] - 0s 5ms/step - loss: 1.0960 - accuracy: 0.5307 - val_loss: 1.1623 - val_accuracy: 0.5450\n",
      "Epoch 8/20\n",
      "24/24 [==============================] - 0s 6ms/step - loss: 1.0781 - accuracy: 0.5451 - val_loss: 1.1497 - val_accuracy: 0.5265\n",
      "Epoch 9/20\n",
      "24/24 [==============================] - 0s 6ms/step - loss: 1.0505 - accuracy: 0.5569 - val_loss: 1.0967 - val_accuracy: 0.5317\n",
      "Epoch 10/20\n",
      "24/24 [==============================] - 0s 6ms/step - loss: 1.0321 - accuracy: 0.5621 - val_loss: 1.0916 - val_accuracy: 0.5794\n",
      "Epoch 11/20\n",
      "24/24 [==============================] - 0s 7ms/step - loss: 1.0114 - accuracy: 0.5569 - val_loss: 1.0836 - val_accuracy: 0.5608\n",
      "Epoch 12/20\n",
      "24/24 [==============================] - 0s 6ms/step - loss: 0.9957 - accuracy: 0.5569 - val_loss: 1.0958 - val_accuracy: 0.5529\n",
      "Epoch 13/20\n",
      "24/24 [==============================] - 0s 6ms/step - loss: 0.9917 - accuracy: 0.5490 - val_loss: 1.1353 - val_accuracy: 0.5714\n",
      "Epoch 14/20\n",
      "24/24 [==============================] - 0s 6ms/step - loss: 1.0082 - accuracy: 0.5752 - val_loss: 1.0441 - val_accuracy: 0.5794\n",
      "Epoch 15/20\n",
      "24/24 [==============================] - 0s 6ms/step - loss: 0.9988 - accuracy: 0.5673 - val_loss: 1.0939 - val_accuracy: 0.5635\n",
      "Epoch 16/20\n",
      "24/24 [==============================] - 0s 6ms/step - loss: 0.9754 - accuracy: 0.5817 - val_loss: 1.0215 - val_accuracy: 0.5952\n",
      "Epoch 17/20\n",
      "24/24 [==============================] - 0s 6ms/step - loss: 0.9661 - accuracy: 0.5869 - val_loss: 1.0519 - val_accuracy: 0.5661\n",
      "Epoch 18/20\n",
      "24/24 [==============================] - 0s 6ms/step - loss: 0.9639 - accuracy: 0.5791 - val_loss: 1.0330 - val_accuracy: 0.5899\n",
      "Epoch 19/20\n",
      "24/24 [==============================] - 0s 5ms/step - loss: 0.9810 - accuracy: 0.5621 - val_loss: 1.0266 - val_accuracy: 0.5979\n",
      "Epoch 20/20\n",
      "24/24 [==============================] - 0s 6ms/step - loss: 0.9619 - accuracy: 0.5739 - val_loss: 1.0405 - val_accuracy: 0.5767\n"
     ]
    }
   ],
   "source": [
    "model.compile(optimizer='adam',\n",
    "              loss=tf.keras.losses.SparseCategoricalCrossentropy(from_logits=True),\n",
    "              metrics=['accuracy'])\n",
    "\n",
    "history = model.fit(X_train, y_train, epochs=20, \n",
    "                    validation_data=(X_test, y_test))"
   ]
  },
  {
   "attachments": {},
   "cell_type": "markdown",
   "metadata": {},
   "source": [
    "### Plotting Accuracy"
   ]
  },
  {
   "cell_type": "code",
   "execution_count": 17,
   "metadata": {},
   "outputs": [
    {
     "name": "stdout",
     "output_type": "stream",
     "text": [
      "12/12 - 0s - loss: 1.0405 - accuracy: 0.5767\n"
     ]
    },
    {
     "data": {
      "image/png": "[encoded data removed]",
      "text/plain": [
       "<Figure size 640x480 with 1 Axes>"
      ]
     },
     "metadata": {},
     "output_type": "display_data"
    }
   ],
   "source": [
    "plt.plot(history.history['accuracy'], label='accuracy')\n",
    "plt.plot(history.history['val_accuracy'], label = 'val_accuracy')\n",
    "plt.xlabel('Epoch')\n",
    "plt.ylabel('Accuracy')\n",
    "plt.ylim([0.5, 1])\n",
    "plt.legend(loc='lower right')\n",
    "\n",
    "test_loss, test_acc = model.evaluate(X_test,  y_test, verbose=2)"
   ]
  },
  {
   "attachments": {},
   "cell_type": "markdown",
   "metadata": {},
   "source": [
    "### Printing Final Test Accuracy"
   ]
  },
  {
   "cell_type": "code",
   "execution_count": 18,
   "metadata": {},
   "outputs": [
    {
     "name": "stdout",
     "output_type": "stream",
     "text": [
      "0.5767195820808411\n"
     ]
    }
   ],
   "source": [
    "print(test_acc)"
   ]
  }
 ],
 "metadata": {
  "kernelspec": {
   "display_name": "Python 3",
   "language": "python",
   "name": "python3"
  },
  "language_info": {
   "codemirror_mode": {
    "name": "ipython",
    "version": 3
   },
   "file_extension": ".py",
   "mimetype": "text/x-python",
   "name": "python",
   "nbconvert_exporter": "python",
   "pygments_lexer": "ipython3",
   "version": "3.10.6"
  },
  "orig_nbformat": 4
 },
 "nbformat": 4,
 "nbformat_minor": 2
}
