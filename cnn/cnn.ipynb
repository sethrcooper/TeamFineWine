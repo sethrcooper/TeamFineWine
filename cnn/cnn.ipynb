{
 "cells": [
  {
   "attachments": {},
   "cell_type": "markdown",
   "metadata": {},
   "source": [
    "### Importing and Cleaning Data"
   ]
  },
  {
   "cell_type": "code",
   "execution_count": 74,
   "metadata": {},
   "outputs": [],
   "source": [
    "import numpy as np\n",
    "import pandas as pd\n",
    "from sklearn.model_selection import train_test_split\n",
    "\n",
    "ORIGINAL_DATASET = \"../WineQT.xlsx\"\n",
    "\n",
    "ORIGINAL_DATA_COLUMNS = { \"fixed acidity\": float,\t\"volatile acidity\": float,\t\"citric acid\": float,\t\"residual sugar\": float,\n",
    "                    \"chlorides\": float,\t\"free sulfur dioxide\": float,\t\"total sulfur dioxide\": float,\t\"density\": float,\t\"pH\": float,\n",
    "                    \"sulphates\": float,\t\"alcohol\": float,\t\"quality\": float, \"Id\": float}\n",
    "\n",
    "df = pd.read_excel(ORIGINAL_DATASET, dtype=ORIGINAL_DATA_COLUMNS)\n",
    "\n",
    "X = np.array(df.iloc[:, 0:11].values)\n",
    "y = np.array(df.iloc[:, 11].values)\n",
    "\n",
    "X_train, X_test, y_train, y_test = train_test_split(X, y, test_size=0.33)\n",
    "\n",
    "X_train = np.reshape(X_train, (X_train.shape[0], X_train.shape[1], 1, 1))\n",
    "X_test = np.reshape(X_test, (X_test.shape[0], X_test.shape[1], 1, 1))"
   ]
  },
  {
   "attachments": {},
   "cell_type": "markdown",
   "metadata": {},
   "source": [
    "### Building CNN"
   ]
  },
  {
   "cell_type": "code",
   "execution_count": 75,
   "metadata": {},
   "outputs": [
    {
     "name": "stdout",
     "output_type": "stream",
     "text": [
      "Model: \"sequential_16\"\n",
      "_________________________________________________________________\n",
      "Layer (type)                 Output Shape              Param #   \n",
      "=================================================================\n",
      "conv2d_48 (Conv2D)           (None, 11, 1, 32)         64        \n",
      "_________________________________________________________________\n",
      "max_pooling2d_32 (MaxPooling (None, 11, 1, 32)         0         \n",
      "_________________________________________________________________\n",
      "conv2d_49 (Conv2D)           (None, 11, 1, 64)         2112      \n",
      "_________________________________________________________________\n",
      "max_pooling2d_33 (MaxPooling (None, 11, 1, 64)         0         \n",
      "_________________________________________________________________\n",
      "conv2d_50 (Conv2D)           (None, 11, 1, 64)         4160      \n",
      "_________________________________________________________________\n",
      "flatten_16 (Flatten)         (None, 704)               0         \n",
      "_________________________________________________________________\n",
      "dense_32 (Dense)             (None, 64)                45120     \n",
      "_________________________________________________________________\n",
      "dense_33 (Dense)             (None, 10)                650       \n",
      "=================================================================\n",
      "Total params: 52,106\n",
      "Trainable params: 52,106\n",
      "Non-trainable params: 0\n",
      "_________________________________________________________________\n"
     ]
    }
   ],
   "source": [
    "import tensorflow as tf\n",
    "\n",
    "from tensorflow.python.keras import layers, models\n",
    "import matplotlib.pyplot as plt\n",
    "\n",
    "model = models.Sequential()\n",
    "model.add(layers.Conv2D(32, (1, 1), activation='relu', input_shape=(11, 1, 1)))\n",
    "model.add(layers.MaxPooling2D((1, 1)))\n",
    "model.add(layers.Conv2D(64, (1, 1), activation='relu'))\n",
    "model.add(layers.MaxPooling2D((1, 1)))\n",
    "model.add(layers.Conv2D(64, (1, 1), activation='relu'))\n",
    "model.add(layers.Flatten())\n",
    "model.add(layers.Dense(64, activation='relu'))\n",
    "model.add(layers.Dense(10))\n",
    "model.summary()"
   ]
  },
  {
   "attachments": {},
   "cell_type": "markdown",
   "metadata": {},
   "source": [
    "### Compiling and Training CNN"
   ]
  },
  {
   "cell_type": "code",
   "execution_count": 76,
   "metadata": {},
   "outputs": [
    {
     "name": "stdout",
     "output_type": "stream",
     "text": [
      "Epoch 1/25\n",
      "24/24 [==============================] - 1s 9ms/step - loss: 1.5889 - accuracy: 0.3856 - val_loss: 1.2033 - val_accuracy: 0.4656\n",
      "Epoch 2/25\n",
      "24/24 [==============================] - 0s 4ms/step - loss: 1.2382 - accuracy: 0.4458 - val_loss: 1.1248 - val_accuracy: 0.5582\n",
      "Epoch 3/25\n",
      "24/24 [==============================] - 0s 4ms/step - loss: 1.2024 - accuracy: 0.4562 - val_loss: 1.1048 - val_accuracy: 0.5661\n",
      "Epoch 4/25\n",
      "24/24 [==============================] - 0s 3ms/step - loss: 1.1827 - accuracy: 0.4680 - val_loss: 1.0865 - val_accuracy: 0.5714\n",
      "Epoch 5/25\n",
      "24/24 [==============================] - 0s 3ms/step - loss: 1.1711 - accuracy: 0.4719 - val_loss: 1.1225 - val_accuracy: 0.4497\n",
      "Epoch 6/25\n",
      "24/24 [==============================] - 0s 3ms/step - loss: 1.1596 - accuracy: 0.4863 - val_loss: 1.0913 - val_accuracy: 0.5132\n",
      "Epoch 7/25\n",
      "24/24 [==============================] - 0s 3ms/step - loss: 1.1417 - accuracy: 0.5072 - val_loss: 1.0288 - val_accuracy: 0.6164\n",
      "Epoch 8/25\n",
      "24/24 [==============================] - 0s 3ms/step - loss: 1.1217 - accuracy: 0.5242 - val_loss: 1.0231 - val_accuracy: 0.6164\n",
      "Epoch 9/25\n",
      "24/24 [==============================] - 0s 3ms/step - loss: 1.0994 - accuracy: 0.5373 - val_loss: 1.0268 - val_accuracy: 0.5661\n",
      "Epoch 10/25\n",
      "24/24 [==============================] - 0s 3ms/step - loss: 1.1084 - accuracy: 0.5412 - val_loss: 1.0722 - val_accuracy: 0.4947\n",
      "Epoch 11/25\n",
      "24/24 [==============================] - 0s 3ms/step - loss: 1.0749 - accuracy: 0.5490 - val_loss: 0.9922 - val_accuracy: 0.5714\n",
      "Epoch 12/25\n",
      "24/24 [==============================] - 0s 3ms/step - loss: 1.0696 - accuracy: 0.5359 - val_loss: 1.0095 - val_accuracy: 0.5503\n",
      "Epoch 13/25\n",
      "24/24 [==============================] - 0s 4ms/step - loss: 1.0545 - accuracy: 0.5346 - val_loss: 0.9725 - val_accuracy: 0.5767\n",
      "Epoch 14/25\n",
      "24/24 [==============================] - 0s 4ms/step - loss: 1.0458 - accuracy: 0.5503 - val_loss: 0.9532 - val_accuracy: 0.5741\n",
      "Epoch 15/25\n",
      "24/24 [==============================] - 0s 4ms/step - loss: 1.0505 - accuracy: 0.5425 - val_loss: 0.9551 - val_accuracy: 0.6138\n",
      "Epoch 16/25\n",
      "24/24 [==============================] - 0s 3ms/step - loss: 1.0361 - accuracy: 0.5490 - val_loss: 0.9742 - val_accuracy: 0.6164\n",
      "Epoch 17/25\n",
      "24/24 [==============================] - 0s 3ms/step - loss: 1.0278 - accuracy: 0.5556 - val_loss: 0.9767 - val_accuracy: 0.5767\n",
      "Epoch 18/25\n",
      "24/24 [==============================] - 0s 3ms/step - loss: 1.0565 - accuracy: 0.5490 - val_loss: 0.9775 - val_accuracy: 0.5767\n",
      "Epoch 19/25\n",
      "24/24 [==============================] - 0s 3ms/step - loss: 1.0263 - accuracy: 0.5556 - val_loss: 0.9744 - val_accuracy: 0.5873\n",
      "Epoch 20/25\n",
      "24/24 [==============================] - 0s 3ms/step - loss: 1.0296 - accuracy: 0.5621 - val_loss: 0.9481 - val_accuracy: 0.6058\n",
      "Epoch 21/25\n",
      "24/24 [==============================] - 0s 3ms/step - loss: 1.0054 - accuracy: 0.5608 - val_loss: 0.9578 - val_accuracy: 0.6429\n",
      "Epoch 22/25\n",
      "24/24 [==============================] - 0s 3ms/step - loss: 1.0176 - accuracy: 0.5556 - val_loss: 0.9606 - val_accuracy: 0.5899\n",
      "Epoch 23/25\n",
      "24/24 [==============================] - 0s 3ms/step - loss: 1.0034 - accuracy: 0.5856 - val_loss: 0.9646 - val_accuracy: 0.5847\n",
      "Epoch 24/25\n",
      "24/24 [==============================] - 0s 3ms/step - loss: 1.0153 - accuracy: 0.5673 - val_loss: 0.9435 - val_accuracy: 0.6032\n",
      "Epoch 25/25\n",
      "24/24 [==============================] - 0s 3ms/step - loss: 0.9993 - accuracy: 0.5725 - val_loss: 0.9870 - val_accuracy: 0.5529\n"
     ]
    }
   ],
   "source": [
    "model.compile(optimizer='adam',\n",
    "              loss=tf.keras.losses.SparseCategoricalCrossentropy(from_logits=True),\n",
    "              metrics=['accuracy'])\n",
    "\n",
    "history = model.fit(X_train, y_train, epochs=20, \n",
    "                    validation_data=(X_test, y_test))"
   ]
  },
  {
   "attachments": {},
   "cell_type": "markdown",
   "metadata": {},
   "source": [
    "### Plotting Accuracy"
   ]
  },
  {
   "cell_type": "code",
   "execution_count": 77,
   "metadata": {},
   "outputs": [
    {
     "name": "stdout",
     "output_type": "stream",
     "text": [
      "12/12 - 0s - loss: 0.9870 - accuracy: 0.5529\n"
     ]
    },
    {
     "data": {
      "image/png": "[encoded data removed]",
      "text/plain": [
       "<Figure size 640x480 with 1 Axes>"
      ]
     },
     "metadata": {},
     "output_type": "display_data"
    }
   ],
   "source": [
    "plt.plot(history.history['accuracy'], label='accuracy')\n",
    "plt.plot(history.history['val_accuracy'], label = 'val_accuracy')\n",
    "plt.xlabel('Epoch')\n",
    "plt.ylabel('Accuracy')\n",
    "plt.ylim([0.5, 1])\n",
    "plt.legend(loc='lower right')\n",
    "\n",
    "test_loss, test_acc = model.evaluate(X_test,  y_test, verbose=2)"
   ]
  },
  {
   "attachments": {},
   "cell_type": "markdown",
   "metadata": {},
   "source": [
    "### Printing Final Test Accuracy"
   ]
  },
  {
   "cell_type": "code",
   "execution_count": 78,
   "metadata": {},
   "outputs": [
    {
     "name": "stdout",
     "output_type": "stream",
     "text": [
      "0.5529100298881531\n"
     ]
    }
   ],
   "source": [
    "print(test_acc)"
   ]
  },
  {
   "attachments": {},
   "cell_type": "markdown",
   "metadata": {},
   "source": [
    "### Saving Model"
   ]
  },
  {
   "cell_type": "code",
   "execution_count": 79,
   "metadata": {},
   "outputs": [],
   "source": [
    "model.save('cnn.h5')"
   ]
  },
  {
   "attachments": {},
   "cell_type": "markdown",
   "metadata": {},
   "source": [
    "### Loading Model"
   ]
  },
  {
   "cell_type": "code",
   "execution_count": 80,
   "metadata": {},
   "outputs": [
    {
     "name": "stdout",
     "output_type": "stream",
     "text": [
      "Model: \"sequential_17\"\n",
      "_________________________________________________________________\n",
      "Layer (type)                 Output Shape              Param #   \n",
      "=================================================================\n",
      "conv2d_51 (Conv2D)           (None, 11, 1, 32)         64        \n",
      "_________________________________________________________________\n",
      "max_pooling2d_34 (MaxPooling (None, 11, 1, 32)         0         \n",
      "_________________________________________________________________\n",
      "conv2d_52 (Conv2D)           (None, 11, 1, 64)         2112      \n",
      "_________________________________________________________________\n",
      "max_pooling2d_35 (MaxPooling (None, 11, 1, 64)         0         \n",
      "_________________________________________________________________\n",
      "conv2d_53 (Conv2D)           (None, 11, 1, 64)         4160      \n",
      "_________________________________________________________________\n",
      "flatten_17 (Flatten)         (None, 704)               0         \n",
      "_________________________________________________________________\n",
      "dense_34 (Dense)             (None, 64)                45120     \n",
      "_________________________________________________________________\n",
      "dense_35 (Dense)             (None, 10)                650       \n",
      "=================================================================\n",
      "Total params: 52,106\n",
      "Trainable params: 52,106\n",
      "Non-trainable params: 0\n",
      "_________________________________________________________________\n"
     ]
    }
   ],
   "source": [
    "loaded_model = models.Sequential()\n",
    "loaded_model.add(layers.Conv2D(32, (1, 1), activation='relu', input_shape=(11, 1, 1)))\n",
    "loaded_model.add(layers.MaxPooling2D((1, 1)))\n",
    "loaded_model.add(layers.Conv2D(64, (1, 1), activation='relu'))\n",
    "loaded_model.add(layers.MaxPooling2D((1, 1)))\n",
    "loaded_model.add(layers.Conv2D(64, (1, 1), activation='relu'))\n",
    "loaded_model.add(layers.Flatten())\n",
    "loaded_model.add(layers.Dense(64, activation='relu'))\n",
    "loaded_model.add(layers.Dense(10))\n",
    "loaded_model.summary()\n",
    "loaded_model.load_weights('cnn.h5')"
   ]
  },
  {
   "attachments": {},
   "cell_type": "markdown",
   "metadata": {},
   "source": [
    "### Printing Final Test Accuracy of Loaded Model"
   ]
  },
  {
   "cell_type": "code",
   "execution_count": 81,
   "metadata": {},
   "outputs": [],
   "source": [
    "loaded_model.compile(optimizer='adam',\n",
    "              loss=tf.keras.losses.SparseCategoricalCrossentropy(from_logits=True),\n",
    "              metrics=['accuracy'])"
   ]
  },
  {
   "cell_type": "code",
   "execution_count": 82,
   "metadata": {},
   "outputs": [
    {
     "name": "stdout",
     "output_type": "stream",
     "text": [
      "12/12 - 0s - loss: 0.9870 - accuracy: 0.5529\n",
      "0.5529100298881531\n"
     ]
    }
   ],
   "source": [
    "test_loss, test_acc = loaded_model.evaluate(X_test,  y_test, verbose=2)\n",
    "print(test_acc)"
   ]
  }
 ],
 "metadata": {
  "kernelspec": {
   "display_name": "Python 3",
   "language": "python",
   "name": "python3"
  },
  "language_info": {
   "codemirror_mode": {
    "name": "ipython",
    "version": 3
   },
   "file_extension": ".py",
   "mimetype": "text/x-python",
   "name": "python",
   "nbconvert_exporter": "python",
   "pygments_lexer": "ipython3",
   "version": "3.10.6"
  },
  "orig_nbformat": 4
 },
 "nbformat": 4,
 "nbformat_minor": 2
}
