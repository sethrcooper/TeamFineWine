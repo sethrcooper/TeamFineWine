{
 "cells": [
  {
   "attachments": {},
   "cell_type": "markdown",
   "metadata": {},
   "source": [
    "### Importing and Cleaning Data"
   ]
  },
  {
   "cell_type": "code",
   "execution_count": 1,
   "metadata": {},
   "outputs": [
    {
     "ename": "FileNotFoundError",
     "evalue": "[Errno 2] No such file or directory: 'WineQT.xlsx'",
     "output_type": "error",
     "traceback": [
      "\u001b[1;31m---------------------------------------------------------------------------\u001b[0m",
      "\u001b[1;31mFileNotFoundError\u001b[0m                         Traceback (most recent call last)",
      "Cell \u001b[1;32mIn[1], line 11\u001b[0m\n\u001b[0;32m      5\u001b[0m ORIGINAL_DATASET \u001b[39m=\u001b[39m \u001b[39m\"\u001b[39m\u001b[39mWineQT.xlsx\u001b[39m\u001b[39m\"\u001b[39m\n\u001b[0;32m      7\u001b[0m ORIGINAL_DATA_COLUMNS \u001b[39m=\u001b[39m { \u001b[39m\"\u001b[39m\u001b[39mfixed acidity\u001b[39m\u001b[39m\"\u001b[39m: \u001b[39mfloat\u001b[39m,\t\u001b[39m\"\u001b[39m\u001b[39mvolatile acidity\u001b[39m\u001b[39m\"\u001b[39m: \u001b[39mfloat\u001b[39m,\t\u001b[39m\"\u001b[39m\u001b[39mcitric acid\u001b[39m\u001b[39m\"\u001b[39m: \u001b[39mfloat\u001b[39m,\t\u001b[39m\"\u001b[39m\u001b[39mresidual sugar\u001b[39m\u001b[39m\"\u001b[39m: \u001b[39mfloat\u001b[39m,\n\u001b[0;32m      8\u001b[0m                     \u001b[39m\"\u001b[39m\u001b[39mchlorides\u001b[39m\u001b[39m\"\u001b[39m: \u001b[39mfloat\u001b[39m,\t\u001b[39m\"\u001b[39m\u001b[39mfree sulfur dioxide\u001b[39m\u001b[39m\"\u001b[39m: \u001b[39mfloat\u001b[39m,\t\u001b[39m\"\u001b[39m\u001b[39mtotal sulfur dioxide\u001b[39m\u001b[39m\"\u001b[39m: \u001b[39mfloat\u001b[39m,\t\u001b[39m\"\u001b[39m\u001b[39mdensity\u001b[39m\u001b[39m\"\u001b[39m: \u001b[39mfloat\u001b[39m,\t\u001b[39m\"\u001b[39m\u001b[39mpH\u001b[39m\u001b[39m\"\u001b[39m: \u001b[39mfloat\u001b[39m,\n\u001b[0;32m      9\u001b[0m                     \u001b[39m\"\u001b[39m\u001b[39msulphates\u001b[39m\u001b[39m\"\u001b[39m: \u001b[39mfloat\u001b[39m,\t\u001b[39m\"\u001b[39m\u001b[39malcohol\u001b[39m\u001b[39m\"\u001b[39m: \u001b[39mfloat\u001b[39m,\t\u001b[39m\"\u001b[39m\u001b[39mquality\u001b[39m\u001b[39m\"\u001b[39m: \u001b[39mfloat\u001b[39m, \u001b[39m\"\u001b[39m\u001b[39mId\u001b[39m\u001b[39m\"\u001b[39m: \u001b[39mfloat\u001b[39m}\n\u001b[1;32m---> 11\u001b[0m df \u001b[39m=\u001b[39m pd\u001b[39m.\u001b[39;49mread_excel(ORIGINAL_DATASET, dtype\u001b[39m=\u001b[39;49mORIGINAL_DATA_COLUMNS)\n\u001b[0;32m     13\u001b[0m X \u001b[39m=\u001b[39m np\u001b[39m.\u001b[39marray(df\u001b[39m.\u001b[39miloc[:, \u001b[39m0\u001b[39m:\u001b[39m11\u001b[39m]\u001b[39m.\u001b[39mvalues)\n\u001b[0;32m     14\u001b[0m y \u001b[39m=\u001b[39m np\u001b[39m.\u001b[39marray(df\u001b[39m.\u001b[39miloc[:, \u001b[39m11\u001b[39m]\u001b[39m.\u001b[39mvalues)\n",
      "File \u001b[1;32mc:\\Users\\William Stadtlander\\AppData\\Local\\Programs\\Python\\Python310\\lib\\site-packages\\pandas\\util\\_decorators.py:311\u001b[0m, in \u001b[0;36mdeprecate_nonkeyword_arguments.<locals>.decorate.<locals>.wrapper\u001b[1;34m(*args, **kwargs)\u001b[0m\n\u001b[0;32m    305\u001b[0m \u001b[39mif\u001b[39;00m \u001b[39mlen\u001b[39m(args) \u001b[39m>\u001b[39m num_allow_args:\n\u001b[0;32m    306\u001b[0m     warnings\u001b[39m.\u001b[39mwarn(\n\u001b[0;32m    307\u001b[0m         msg\u001b[39m.\u001b[39mformat(arguments\u001b[39m=\u001b[39marguments),\n\u001b[0;32m    308\u001b[0m         \u001b[39mFutureWarning\u001b[39;00m,\n\u001b[0;32m    309\u001b[0m         stacklevel\u001b[39m=\u001b[39mstacklevel,\n\u001b[0;32m    310\u001b[0m     )\n\u001b[1;32m--> 311\u001b[0m \u001b[39mreturn\u001b[39;00m func(\u001b[39m*\u001b[39margs, \u001b[39m*\u001b[39m\u001b[39m*\u001b[39mkwargs)\n",
      "File \u001b[1;32mc:\\Users\\William Stadtlander\\AppData\\Local\\Programs\\Python\\Python310\\lib\\site-packages\\pandas\\io\\excel\\_base.py:457\u001b[0m, in \u001b[0;36mread_excel\u001b[1;34m(io, sheet_name, header, names, index_col, usecols, squeeze, dtype, engine, converters, true_values, false_values, skiprows, nrows, na_values, keep_default_na, na_filter, verbose, parse_dates, date_parser, thousands, decimal, comment, skipfooter, convert_float, mangle_dupe_cols, storage_options)\u001b[0m\n\u001b[0;32m    455\u001b[0m \u001b[39mif\u001b[39;00m \u001b[39mnot\u001b[39;00m \u001b[39misinstance\u001b[39m(io, ExcelFile):\n\u001b[0;32m    456\u001b[0m     should_close \u001b[39m=\u001b[39m \u001b[39mTrue\u001b[39;00m\n\u001b[1;32m--> 457\u001b[0m     io \u001b[39m=\u001b[39m ExcelFile(io, storage_options\u001b[39m=\u001b[39;49mstorage_options, engine\u001b[39m=\u001b[39;49mengine)\n\u001b[0;32m    458\u001b[0m \u001b[39melif\u001b[39;00m engine \u001b[39mand\u001b[39;00m engine \u001b[39m!=\u001b[39m io\u001b[39m.\u001b[39mengine:\n\u001b[0;32m    459\u001b[0m     \u001b[39mraise\u001b[39;00m \u001b[39mValueError\u001b[39;00m(\n\u001b[0;32m    460\u001b[0m         \u001b[39m\"\u001b[39m\u001b[39mEngine should not be specified when passing \u001b[39m\u001b[39m\"\u001b[39m\n\u001b[0;32m    461\u001b[0m         \u001b[39m\"\u001b[39m\u001b[39man ExcelFile - ExcelFile already has the engine set\u001b[39m\u001b[39m\"\u001b[39m\n\u001b[0;32m    462\u001b[0m     )\n",
      "File \u001b[1;32mc:\\Users\\William Stadtlander\\AppData\\Local\\Programs\\Python\\Python310\\lib\\site-packages\\pandas\\io\\excel\\_base.py:1376\u001b[0m, in \u001b[0;36mExcelFile.__init__\u001b[1;34m(self, path_or_buffer, engine, storage_options)\u001b[0m\n\u001b[0;32m   1374\u001b[0m     ext \u001b[39m=\u001b[39m \u001b[39m\"\u001b[39m\u001b[39mxls\u001b[39m\u001b[39m\"\u001b[39m\n\u001b[0;32m   1375\u001b[0m \u001b[39melse\u001b[39;00m:\n\u001b[1;32m-> 1376\u001b[0m     ext \u001b[39m=\u001b[39m inspect_excel_format(\n\u001b[0;32m   1377\u001b[0m         content_or_path\u001b[39m=\u001b[39;49mpath_or_buffer, storage_options\u001b[39m=\u001b[39;49mstorage_options\n\u001b[0;32m   1378\u001b[0m     )\n\u001b[0;32m   1379\u001b[0m     \u001b[39mif\u001b[39;00m ext \u001b[39mis\u001b[39;00m \u001b[39mNone\u001b[39;00m:\n\u001b[0;32m   1380\u001b[0m         \u001b[39mraise\u001b[39;00m \u001b[39mValueError\u001b[39;00m(\n\u001b[0;32m   1381\u001b[0m             \u001b[39m\"\u001b[39m\u001b[39mExcel file format cannot be determined, you must specify \u001b[39m\u001b[39m\"\u001b[39m\n\u001b[0;32m   1382\u001b[0m             \u001b[39m\"\u001b[39m\u001b[39man engine manually.\u001b[39m\u001b[39m\"\u001b[39m\n\u001b[0;32m   1383\u001b[0m         )\n",
      "File \u001b[1;32mc:\\Users\\William Stadtlander\\AppData\\Local\\Programs\\Python\\Python310\\lib\\site-packages\\pandas\\io\\excel\\_base.py:1250\u001b[0m, in \u001b[0;36minspect_excel_format\u001b[1;34m(content_or_path, storage_options)\u001b[0m\n\u001b[0;32m   1247\u001b[0m \u001b[39mif\u001b[39;00m \u001b[39misinstance\u001b[39m(content_or_path, \u001b[39mbytes\u001b[39m):\n\u001b[0;32m   1248\u001b[0m     content_or_path \u001b[39m=\u001b[39m BytesIO(content_or_path)\n\u001b[1;32m-> 1250\u001b[0m \u001b[39mwith\u001b[39;00m get_handle(\n\u001b[0;32m   1251\u001b[0m     content_or_path, \u001b[39m\"\u001b[39;49m\u001b[39mrb\u001b[39;49m\u001b[39m\"\u001b[39;49m, storage_options\u001b[39m=\u001b[39;49mstorage_options, is_text\u001b[39m=\u001b[39;49m\u001b[39mFalse\u001b[39;49;00m\n\u001b[0;32m   1252\u001b[0m ) \u001b[39mas\u001b[39;00m handle:\n\u001b[0;32m   1253\u001b[0m     stream \u001b[39m=\u001b[39m handle\u001b[39m.\u001b[39mhandle\n\u001b[0;32m   1254\u001b[0m     stream\u001b[39m.\u001b[39mseek(\u001b[39m0\u001b[39m)\n",
      "File \u001b[1;32mc:\\Users\\William Stadtlander\\AppData\\Local\\Programs\\Python\\Python310\\lib\\site-packages\\pandas\\io\\common.py:795\u001b[0m, in \u001b[0;36mget_handle\u001b[1;34m(path_or_buf, mode, encoding, compression, memory_map, is_text, errors, storage_options)\u001b[0m\n\u001b[0;32m    786\u001b[0m         handle \u001b[39m=\u001b[39m \u001b[39mopen\u001b[39m(\n\u001b[0;32m    787\u001b[0m             handle,\n\u001b[0;32m    788\u001b[0m             ioargs\u001b[39m.\u001b[39mmode,\n\u001b[1;32m   (...)\u001b[0m\n\u001b[0;32m    791\u001b[0m             newline\u001b[39m=\u001b[39m\u001b[39m\"\u001b[39m\u001b[39m\"\u001b[39m,\n\u001b[0;32m    792\u001b[0m         )\n\u001b[0;32m    793\u001b[0m     \u001b[39melse\u001b[39;00m:\n\u001b[0;32m    794\u001b[0m         \u001b[39m# Binary mode\u001b[39;00m\n\u001b[1;32m--> 795\u001b[0m         handle \u001b[39m=\u001b[39m \u001b[39mopen\u001b[39;49m(handle, ioargs\u001b[39m.\u001b[39;49mmode)\n\u001b[0;32m    796\u001b[0m     handles\u001b[39m.\u001b[39mappend(handle)\n\u001b[0;32m    798\u001b[0m \u001b[39m# Convert BytesIO or file objects passed with an encoding\u001b[39;00m\n",
      "\u001b[1;31mFileNotFoundError\u001b[0m: [Errno 2] No such file or directory: 'WineQT.xlsx'"
     ]
    }
   ],
   "source": [
    "import numpy as np\n",
    "import pandas as pd\n",
    "from sklearn.model_selection import train_test_split\n",
    "\n",
    "ORIGINAL_DATASET = \"../WineQT.xlsx\"\n",
    "\n",
    "ORIGINAL_DATA_COLUMNS = { \"fixed acidity\": float,\t\"volatile acidity\": float,\t\"citric acid\": float,\t\"residual sugar\": float,\n",
    "                    \"chlorides\": float,\t\"free sulfur dioxide\": float,\t\"total sulfur dioxide\": float,\t\"density\": float,\t\"pH\": float,\n",
    "                    \"sulphates\": float,\t\"alcohol\": float,\t\"quality\": float, \"Id\": float}\n",
    "\n",
    "df = pd.read_excel(ORIGINAL_DATASET, dtype=ORIGINAL_DATA_COLUMNS)\n",
    "\n",
    "X = np.array(df.iloc[:, 0:11].values)\n",
    "y = np.array(df.iloc[:, 11].values)\n",
    "\n",
    "X_train, X_test, y_train, y_test = train_test_split(X, y, test_size=0.33)\n",
    "\n",
    "X_train = np.reshape(X_train, (X_train.shape[0], X_train.shape[1], 1, 1))\n",
    "X_test = np.reshape(X_test, (X_test.shape[0], X_test.shape[1], 1, 1))"
   ]
  },
  {
   "attachments": {},
   "cell_type": "markdown",
   "metadata": {},
   "source": [
    "### Building CNN"
   ]
  },
  {
   "cell_type": "code",
   "execution_count": null,
   "metadata": {},
   "outputs": [
    {
     "name": "stdout",
     "output_type": "stream",
     "text": [
      "Model: \"sequential_15\"\n",
      "_________________________________________________________________\n",
      "Layer (type)                 Output Shape              Param #   \n",
      "=================================================================\n",
      "conv2d_45 (Conv2D)           (None, 11, 1, 32)         64        \n",
      "_________________________________________________________________\n",
      "max_pooling2d_30 (MaxPooling (None, 11, 1, 32)         0         \n",
      "_________________________________________________________________\n",
      "conv2d_46 (Conv2D)           (None, 11, 1, 64)         2112      \n",
      "_________________________________________________________________\n",
      "max_pooling2d_31 (MaxPooling (None, 11, 1, 64)         0         \n",
      "_________________________________________________________________\n",
      "conv2d_47 (Conv2D)           (None, 11, 1, 64)         4160      \n",
      "_________________________________________________________________\n",
      "flatten_15 (Flatten)         (None, 704)               0         \n",
      "_________________________________________________________________\n",
      "dense_30 (Dense)             (None, 64)                45120     \n",
      "_________________________________________________________________\n",
      "dense_31 (Dense)             (None, 10)                650       \n",
      "=================================================================\n",
      "Total params: 52,106\n",
      "Trainable params: 52,106\n",
      "Non-trainable params: 0\n",
      "_________________________________________________________________\n"
     ]
    }
   ],
   "source": [
    "import tensorflow as tf\n",
    "\n",
    "from tensorflow.python.keras import layers, models\n",
    "import matplotlib.pyplot as plt\n",
    "\n",
    "model = models.Sequential()\n",
    "model.add(layers.Conv2D(32, (1, 1), activation='relu', input_shape=(11, 1, 1)))\n",
    "model.add(layers.MaxPooling2D((1, 1)))\n",
    "model.add(layers.Conv2D(64, (1, 1), activation='relu'))\n",
    "model.add(layers.MaxPooling2D((1, 1)))\n",
    "model.add(layers.Conv2D(64, (1, 1), activation='relu'))\n",
    "model.add(layers.Flatten())\n",
    "model.add(layers.Dense(64, activation='relu'))\n",
    "model.add(layers.Dense(10))\n",
    "model.summary()"
   ]
  },
  {
   "attachments": {},
   "cell_type": "markdown",
   "metadata": {},
   "source": [
    "### Compiling and Training CNN"
   ]
  },
  {
   "cell_type": "code",
   "execution_count": null,
   "metadata": {},
   "outputs": [
    {
     "name": "stdout",
     "output_type": "stream",
     "text": [
      "Epoch 1/20\n",
      "24/24 [==============================] - 1s 9ms/step - loss: 1.6624 - accuracy: 0.3490 - val_loss: 1.2489 - val_accuracy: 0.4259\n",
      "Epoch 2/20\n",
      "24/24 [==============================] - 0s 3ms/step - loss: 1.2314 - accuracy: 0.4810 - val_loss: 1.1441 - val_accuracy: 0.5185\n",
      "Epoch 3/20\n",
      "24/24 [==============================] - 0s 3ms/step - loss: 1.1859 - accuracy: 0.4889 - val_loss: 1.1455 - val_accuracy: 0.5000\n",
      "Epoch 4/20\n",
      "24/24 [==============================] - 0s 3ms/step - loss: 1.1679 - accuracy: 0.4902 - val_loss: 1.1337 - val_accuracy: 0.5079\n",
      "Epoch 5/20\n",
      "24/24 [==============================] - 0s 3ms/step - loss: 1.2292 - accuracy: 0.4314 - val_loss: 1.1384 - val_accuracy: 0.5503\n",
      "Epoch 6/20\n",
      "24/24 [==============================] - 0s 3ms/step - loss: 1.1872 - accuracy: 0.4797 - val_loss: 1.1226 - val_accuracy: 0.5185\n",
      "Epoch 7/20\n",
      "24/24 [==============================] - 0s 3ms/step - loss: 1.1624 - accuracy: 0.4797 - val_loss: 1.1000 - val_accuracy: 0.5397\n",
      "Epoch 8/20\n",
      "24/24 [==============================] - 0s 3ms/step - loss: 1.1345 - accuracy: 0.5072 - val_loss: 1.0762 - val_accuracy: 0.5794\n",
      "Epoch 9/20\n",
      "24/24 [==============================] - 0s 3ms/step - loss: 1.1121 - accuracy: 0.5477 - val_loss: 1.0596 - val_accuracy: 0.5899\n",
      "Epoch 10/20\n",
      "24/24 [==============================] - 0s 3ms/step - loss: 1.1106 - accuracy: 0.5281 - val_loss: 1.0671 - val_accuracy: 0.5952\n",
      "Epoch 11/20\n",
      "24/24 [==============================] - 0s 3ms/step - loss: 1.0979 - accuracy: 0.5203 - val_loss: 1.0514 - val_accuracy: 0.5794\n",
      "Epoch 12/20\n",
      "24/24 [==============================] - 0s 3ms/step - loss: 1.0727 - accuracy: 0.5399 - val_loss: 1.0276 - val_accuracy: 0.5820\n",
      "Epoch 13/20\n",
      "24/24 [==============================] - 0s 3ms/step - loss: 1.0539 - accuracy: 0.5569 - val_loss: 1.0146 - val_accuracy: 0.5847\n",
      "Epoch 14/20\n",
      "24/24 [==============================] - 0s 3ms/step - loss: 1.0417 - accuracy: 0.5712 - val_loss: 1.0121 - val_accuracy: 0.5661\n",
      "Epoch 15/20\n",
      "24/24 [==============================] - 0s 3ms/step - loss: 1.0335 - accuracy: 0.5608 - val_loss: 1.0991 - val_accuracy: 0.4868\n",
      "Epoch 16/20\n",
      "24/24 [==============================] - 0s 3ms/step - loss: 1.0532 - accuracy: 0.5359 - val_loss: 1.0189 - val_accuracy: 0.5529\n",
      "Epoch 17/20\n",
      "24/24 [==============================] - 0s 3ms/step - loss: 1.0439 - accuracy: 0.5294 - val_loss: 1.0198 - val_accuracy: 0.5794\n",
      "Epoch 18/20\n",
      "24/24 [==============================] - 0s 3ms/step - loss: 1.0209 - accuracy: 0.5660 - val_loss: 0.9915 - val_accuracy: 0.5873\n",
      "Epoch 19/20\n",
      "24/24 [==============================] - 0s 3ms/step - loss: 1.0024 - accuracy: 0.5725 - val_loss: 1.0089 - val_accuracy: 0.5952\n",
      "Epoch 20/20\n",
      "24/24 [==============================] - 0s 3ms/step - loss: 1.0181 - accuracy: 0.5621 - val_loss: 1.0172 - val_accuracy: 0.5820\n"
     ]
    }
   ],
   "source": [
    "model.compile(optimizer='adam',\n",
    "              loss=tf.keras.losses.SparseCategoricalCrossentropy(from_logits=True),\n",
    "              metrics=['accuracy'])\n",
    "\n",
    "history = model.fit(X_train, y_train, epochs=20, \n",
    "                    validation_data=(X_test, y_test))"
   ]
  },
  {
   "attachments": {},
   "cell_type": "markdown",
   "metadata": {},
   "source": [
    "### Plotting Accuracy"
   ]
  },
  {
   "cell_type": "code",
   "execution_count": null,
   "metadata": {},
   "outputs": [
    {
     "name": "stdout",
     "output_type": "stream",
     "text": [
      "12/12 - 0s - loss: 1.0172 - accuracy: 0.5820\n"
     ]
    },
    {
     "data": {
      "image/png": "[encoded data removed]",
      "text/plain": [
       "<Figure size 640x480 with 1 Axes>"
      ]
     },
     "metadata": {},
     "output_type": "display_data"
    }
   ],
   "source": [
    "plt.plot(history.history['accuracy'], label='accuracy')\n",
    "plt.plot(history.history['val_accuracy'], label = 'val_accuracy')\n",
    "plt.xlabel('Epoch')\n",
    "plt.ylabel('Accuracy')\n",
    "plt.ylim([0.5, 1])\n",
    "plt.legend(loc='lower right')\n",
    "\n",
    "test_loss, test_acc = model.evaluate(X_test,  y_test, verbose=2)"
   ]
  },
  {
   "attachments": {},
   "cell_type": "markdown",
   "metadata": {},
   "source": [
    "### Printing Final Test Accuracy"
   ]
  },
  {
   "cell_type": "code",
   "execution_count": null,
   "metadata": {},
   "outputs": [
    {
     "name": "stdout",
     "output_type": "stream",
     "text": [
      "0.5820105671882629\n"
     ]
    }
   ],
   "source": [
    "print(test_acc)"
   ]
  },
  {
   "attachments": {},
   "cell_type": "markdown",
   "metadata": {},
   "source": [
    "### Saving Model"
   ]
  },
  {
   "cell_type": "code",
   "execution_count": null,
   "metadata": {},
   "outputs": [],
   "source": [
    "model.save('cnn.h5')"
   ]
  },
  {
   "attachments": {},
   "cell_type": "markdown",
   "metadata": {},
   "source": [
    "### Loading Model"
   ]
  },
  {
   "cell_type": "code",
   "execution_count": null,
   "metadata": {},
   "outputs": [
    {
     "name": "stdout",
     "output_type": "stream",
     "text": [
      "Model: \"sequential_16\"\n",
      "_________________________________________________________________\n",
      "Layer (type)                 Output Shape              Param #   \n",
      "=================================================================\n",
      "conv2d_48 (Conv2D)           (None, 11, 1, 32)         64        \n",
      "_________________________________________________________________\n",
      "max_pooling2d_32 (MaxPooling (None, 11, 1, 32)         0         \n",
      "_________________________________________________________________\n",
      "conv2d_49 (Conv2D)           (None, 11, 1, 64)         2112      \n",
      "_________________________________________________________________\n",
      "max_pooling2d_33 (MaxPooling (None, 11, 1, 64)         0         \n",
      "_________________________________________________________________\n",
      "conv2d_50 (Conv2D)           (None, 11, 1, 64)         4160      \n",
      "_________________________________________________________________\n",
      "flatten_16 (Flatten)         (None, 704)               0         \n",
      "_________________________________________________________________\n",
      "dense_32 (Dense)             (None, 64)                45120     \n",
      "_________________________________________________________________\n",
      "dense_33 (Dense)             (None, 10)                650       \n",
      "=================================================================\n",
      "Total params: 52,106\n",
      "Trainable params: 52,106\n",
      "Non-trainable params: 0\n",
      "_________________________________________________________________\n"
     ]
    }
   ],
   "source": [
    "loaded_model = models.Sequential()\n",
    "loaded_model.add(layers.Conv2D(32, (1, 1), activation='relu', input_shape=(11, 1, 1)))\n",
    "loaded_model.add(layers.MaxPooling2D((1, 1)))\n",
    "loaded_model.add(layers.Conv2D(64, (1, 1), activation='relu'))\n",
    "loaded_model.add(layers.MaxPooling2D((1, 1)))\n",
    "loaded_model.add(layers.Conv2D(64, (1, 1), activation='relu'))\n",
    "loaded_model.add(layers.Flatten())\n",
    "loaded_model.add(layers.Dense(64, activation='relu'))\n",
    "loaded_model.add(layers.Dense(10))\n",
    "loaded_model.summary()\n",
    "loaded_model.load_weights('cnn.h5')"
   ]
  },
  {
   "attachments": {},
   "cell_type": "markdown",
   "metadata": {},
   "source": [
    "### Printing Final Test Accuracy of Loaded Model"
   ]
  },
  {
   "cell_type": "code",
   "execution_count": null,
   "metadata": {},
   "outputs": [],
   "source": [
    "loaded_model.compile(optimizer='adam',\n",
    "              loss=tf.keras.losses.SparseCategoricalCrossentropy(from_logits=True),\n",
    "              metrics=['accuracy'])"
   ]
  },
  {
   "cell_type": "code",
   "execution_count": null,
   "metadata": {},
   "outputs": [
    {
     "name": "stdout",
     "output_type": "stream",
     "text": [
      "12/12 - 0s - loss: 1.0172 - accuracy: 0.5820\n",
      "0.5820105671882629\n"
     ]
    }
   ],
   "source": [
    "test_loss, test_acc = loaded_model.evaluate(X_test,  y_test, verbose=2)\n",
    "print(test_acc)"
   ]
  }
 ],
 "metadata": {
  "kernelspec": {
   "display_name": "Python 3",
   "language": "python",
   "name": "python3"
  },
  "language_info": {
   "codemirror_mode": {
    "name": "ipython",
    "version": 3
   },
   "file_extension": ".py",
   "mimetype": "text/x-python",
   "name": "python",
   "nbconvert_exporter": "python",
   "pygments_lexer": "ipython3",
   "version": "3.10.6"
  },
  "orig_nbformat": 4
 },
 "nbformat": 4,
 "nbformat_minor": 2
}
