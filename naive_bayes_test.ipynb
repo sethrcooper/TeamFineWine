{
 "cells": [
  {
   "cell_type": "markdown",
   "metadata": {},
   "source": [
    "### Importing and Cleaning Data"
   ]
  },
  {
   "cell_type": "code",
   "execution_count": 1,
   "metadata": {},
   "outputs": [],
   "source": [
    "import os\n",
    "import numpy as np\n",
    "import pandas as pd\n",
    "from sklearn.model_selection import train_test_split\n",
    "\n",
    "ORIGINAL_DATASET = \"WineQT.xlsx\"\n",
    "\n",
    "ORIGINAL_DATA_COLUMNS = { \"fixed acidity\": float,\t\"volatile acidity\": float,\t\"citric acid\": float,\t\"residual sugar\": float,\n",
    "                    \"chlorides\": float,\t\"free sulfur dioxide\": float,\t\"total sulfur dioxide\": float,\t\"density\": float,\t\"pH\": float,\n",
    "                    \"sulphates\": float,\t\"alcohol\": float,\t\"quality\": int, \"Id\": int}\n",
    "\n",
    "df = pd.read_excel(ORIGINAL_DATASET, dtype=ORIGINAL_DATA_COLUMNS)\n",
    "\n",
    "X = np.array(df.iloc[:, 0:11].values)\n",
    "y = np.array(df.iloc[:, 11].values - 3)\n",
    "\n",
    "X_train, X_test, y_train, y_test = train_test_split(X, y, test_size=0.33)\n",
    "\n",
    "X_train = np.reshape(X_train, (X_train.shape[0], X_train.shape[1]))\n",
    "X_test = np.reshape(X_test, (X_test.shape[0], X_test.shape[1]))"
   ]
  },
  {
   "attachments": {},
   "cell_type": "markdown",
   "metadata": {},
   "source": [
    "### Training and Testing Naive Bayes"
   ]
  },
  {
   "cell_type": "code",
   "execution_count": 2,
   "metadata": {},
   "outputs": [
    {
     "name": "stdout",
     "output_type": "stream",
     "text": [
      "Naive Bayes training accuracy: 0.543791\n",
      "Naive Bayes testing accuracy: 0.576720\n"
     ]
    }
   ],
   "source": [
    "from naive_bayes import *\n",
    "\n",
    "nb_params = {}\n",
    "nb_model = naive_bayes_train(X_train.T, y_train, nb_params)\n",
    "\n",
    "nb_train_predictions = naive_bayes_predict(X_train.T, nb_model)\n",
    "\n",
    "nb_train_accuracy = np.mean(nb_train_predictions == y_train)\n",
    "\n",
    "print(\"Naive Bayes training accuracy: %f\" % nb_train_accuracy)\n",
    "\n",
    "nb_test_predictions = naive_bayes_predict(X_test.T, nb_model)\n",
    "\n",
    "nb_test_accuracy = np.mean(nb_test_predictions == y_test)\n",
    "\n",
    "print(\"Naive Bayes testing accuracy: %f\" % nb_test_accuracy)"
   ]
  },
  {
   "attachments": {},
   "cell_type": "markdown",
   "metadata": {},
   "source": [
    "### Confusion Matrix"
   ]
  },
  {
   "cell_type": "code",
   "execution_count": 3,
   "metadata": {},
   "outputs": [
    {
     "data": {
      "text/plain": [
       "array([[ 0,  0,  0,  0,  0,  0],\n",
       "       [ 0,  3,  7,  4,  0,  0],\n",
       "       [ 1, 10, 95, 44,  4,  0],\n",
       "       [ 0,  6, 37, 88, 28,  0],\n",
       "       [ 0,  0,  2, 13, 32,  0],\n",
       "       [ 0,  0,  0,  0,  4,  0]], dtype=int64)"
      ]
     },
     "execution_count": 3,
     "metadata": {},
     "output_type": "execute_result"
    }
   ],
   "source": [
    "from sklearn.metrics import confusion_matrix\n",
    "\n",
    "confusion_matrix(y_test, nb_test_predictions)"
   ]
  },
  {
   "attachments": {},
   "cell_type": "markdown",
   "metadata": {},
   "source": [
    "### Error and RMSE"
   ]
  },
  {
   "cell_type": "code",
   "execution_count": 4,
   "metadata": {},
   "outputs": [
    {
     "name": "stdout",
     "output_type": "stream",
     "text": [
      "Error of actual value to predicted value:  0.46825396825396826\n",
      "Root Mean Square Error:  0.7471285419531624\n"
     ]
    }
   ],
   "source": [
    "diff = nb_test_predictions - y_test\n",
    "error = np.mean(np.abs(diff))\n",
    "rmse = np.sqrt(np.mean(diff*diff))\n",
    "print(\"Error of actual value to predicted value: \", error)\n",
    "print(\"Root Mean Square Error: \", rmse)"
   ]
  },
  {
   "attachments": {},
   "cell_type": "markdown",
   "metadata": {},
   "source": [
    "### Saving and Loading Weights"
   ]
  },
  {
   "cell_type": "code",
   "execution_count": 5,
   "metadata": {},
   "outputs": [
    {
     "name": "stdout",
     "output_type": "stream",
     "text": [
      "<class 'dict'>\n",
      "{'cond_means': array([[ 8.45      ,  7.87368421,  8.26960486,  8.33333333,  8.74895833,\n",
      "         8.65833333],\n",
      "       [ 0.8975    ,  0.69026316,  0.58530395,  0.50990099,  0.38895833,\n",
      "         0.40916667],\n",
      "       [ 0.21166667,  0.17631579,  0.24358663,  0.26072607,  0.3909375 ,\n",
      "         0.41166667],\n",
      "       [ 2.66666667,  2.98421053,  2.57613982,  2.44026403,  2.671875  ,\n",
      "         2.55      ],\n",
      "       [ 0.10533333,  0.10252632,  0.09009119,  0.08523762,  0.0769375 ,\n",
      "         0.06866667],\n",
      "       [ 8.16666667, 13.57894737, 16.92401216, 14.99339934, 14.72916667,\n",
      "         8.75      ],\n",
      "       [24.5       , 38.        , 55.94072948, 40.01650165, 39.05208333,\n",
      "        25.91666667],\n",
      "       [ 0.99768167,  0.99682368,  0.99716547,  0.99661241,  0.99594979,\n",
      "         0.99555333],\n",
      "       [ 3.36166667,  3.36842105,  3.30045593,  3.32273927,  3.28989583,\n",
      "         3.23166667],\n",
      "       [ 0.55      ,  0.62157895,  0.6093617 ,  0.67831683,  0.73760417,\n",
      "         0.79583333],\n",
      "       [ 9.69166667, 10.28421053,  9.90486322, 10.61738174, 11.5234375 ,\n",
      "        11.73333333]]), 'cond_std': array([[1.85539753e+00, 1.59302496e+00, 1.62573906e+00, 1.77011619e+00,\n",
      "        1.95170838e+00, 1.81404628e+00],\n",
      "       [3.35531295e-01, 1.94709458e-01, 1.65390021e-01, 1.62101983e-01,\n",
      "        1.21762056e-01, 1.46597995e-01],\n",
      "       [2.62133342e-01, 2.52048670e-01, 1.75181780e-01, 1.96806520e-01,\n",
      "        2.01137795e-01, 1.60355508e-01],\n",
      "       [1.36218778e+00, 1.32992408e+00, 1.55255471e+00, 1.32676656e+00,\n",
      "        1.37253211e+00, 1.29582663e+00],\n",
      "       [4.86541080e-02, 1.20806661e-01, 4.23200738e-02, 3.95789261e-02,\n",
      "        3.50603089e-02, 9.63788820e-03],\n",
      "       [5.69844033e+00, 8.52436625e+00, 1.15141119e+01, 9.59819613e+00,\n",
      "        9.89342076e+00, 4.51155923e+00],\n",
      "       [1.67605688e+01, 2.34251327e+01, 3.69756387e+01, 2.43321975e+01,\n",
      "        4.14764918e+01, 2.01720034e+01],\n",
      "       [2.02478325e-03, 1.60796442e-03, 1.70227771e-03, 2.06115907e-03,\n",
      "        2.17798979e-03, 1.92684688e-03],\n",
      "       [1.36554832e-01, 2.33289140e-01, 1.49703167e-01, 1.60502783e-01,\n",
      "        1.52605802e-01, 1.51208098e-01],\n",
      "       [7.81024968e-02, 3.37939003e-01, 1.51494741e-01, 1.74696735e-01,\n",
      "        1.40443826e-01, 1.20309208e-01],\n",
      "       [8.09535189e-01, 1.14214164e+00, 7.59593594e-01, 1.07780235e+00,\n",
      "        9.98278548e-01, 1.05224627e+00]]), 'prior_probs': array([[0.00784314],\n",
      "       [0.0248366 ],\n",
      "       [0.43006536],\n",
      "       [0.39607843],\n",
      "       [0.1254902 ],\n",
      "       [0.01568627]])}\n"
     ]
    }
   ],
   "source": [
    "import pickle \n",
    "\n",
    "with open('save_nb_model.txt', 'wb') as f:\n",
    "    pickle.dump(nb_model, f)\n",
    "\n",
    "with open('save_nb_model.txt', 'rb') as f:\n",
    "    model = pickle.load(f)\n",
    "    print(type(model))\n",
    "    print(model)"
   ]
  }
 ],
 "metadata": {
  "kernelspec": {
   "display_name": "Python 3",
   "language": "python",
   "name": "python3"
  },
  "language_info": {
   "codemirror_mode": {
    "name": "ipython",
    "version": 3
   },
   "file_extension": ".py",
   "mimetype": "text/x-python",
   "name": "python",
   "nbconvert_exporter": "python",
   "pygments_lexer": "ipython3",
   "version": "3.10.1"
  },
  "orig_nbformat": 4,
  "vscode": {
   "interpreter": {
    "hash": "e55d69c5b540d17231ef19422e3fdd8b340b1daa20af8572e0582d7c7a432103"
   }
  }
 },
 "nbformat": 4,
 "nbformat_minor": 2
}
