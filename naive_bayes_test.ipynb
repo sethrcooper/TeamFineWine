{
 "cells": [
  {
   "cell_type": "markdown",
   "metadata": {},
   "source": [
    "### Importing and Cleaning Data"
   ]
  },
  {
   "cell_type": "code",
   "execution_count": 1,
   "metadata": {},
   "outputs": [],
   "source": [
    "import os\n",
    "import numpy as np\n",
    "import pandas as pd\n",
    "from sklearn.model_selection import train_test_split\n",
    "\n",
    "ORIGINAL_DATASET = \"WineQT.xlsx\"\n",
    "\n",
    "ORIGINAL_DATA_COLUMNS = { \"fixed acidity\": float,\t\"volatile acidity\": float,\t\"citric acid\": float,\t\"residual sugar\": float,\n",
    "                    \"chlorides\": float,\t\"free sulfur dioxide\": float,\t\"total sulfur dioxide\": float,\t\"density\": float,\t\"pH\": float,\n",
    "                    \"sulphates\": float,\t\"alcohol\": float,\t\"quality\": int, \"Id\": int}\n",
    "\n",
    "df = pd.read_excel(ORIGINAL_DATASET, dtype=ORIGINAL_DATA_COLUMNS)\n",
    "\n",
    "X = np.array(df.iloc[:, 0:11].values)\n",
    "y = np.array(df.iloc[:, 11].values - 3)\n",
    "\n",
    "X_train, X_test, y_train, y_test = train_test_split(X, y, test_size=0.33)\n",
    "\n",
    "X_train = np.reshape(X_train, (X_train.shape[0], X_train.shape[1]))\n",
    "X_test = np.reshape(X_test, (X_test.shape[0], X_test.shape[1]))"
   ]
  },
  {
   "attachments": {},
   "cell_type": "markdown",
   "metadata": {},
   "source": [
    "### Training and Testing Naive Bayes"
   ]
  },
  {
   "cell_type": "code",
   "execution_count": 2,
   "metadata": {},
   "outputs": [
    {
     "name": "stdout",
     "output_type": "stream",
     "text": [
      "(765, 11) (378, 11) (765,) (378,)\n",
      "Counter({3: 313, 2: 307, 4: 104, 1: 23, 5: 12, 0: 6})\n",
      "Naive Bayes training accuracy: 0.567320\n",
      "Naive Bayes testing accuracy: 0.563492\n"
     ]
    }
   ],
   "source": [
    "from naive_bayes import *\n",
    "\n",
    "nb_params = {}\n",
    "nb_model = naive_bayes_train(X_train.T, y_train, nb_params)\n",
    "\n",
    "nb_train_predictions = naive_bayes_predict(X_train.T, nb_model)\n",
    "\n",
    "nb_train_accuracy = np.mean(nb_train_predictions == y_train)\n",
    "\n",
    "print(\"Naive Bayes training accuracy: %f\" % nb_train_accuracy)\n",
    "\n",
    "nb_test_predictions = naive_bayes_predict(X_test.T, nb_model)\n",
    "\n",
    "nb_test_accuracy = np.mean(nb_test_predictions == y_test)\n",
    "\n",
    "print(\"Naive Bayes testing accuracy: %f\" % nb_test_accuracy)"
   ]
  },
  {
   "attachments": {},
   "cell_type": "markdown",
   "metadata": {},
   "source": [
    "### Confusion Matrix"
   ]
  },
  {
   "cell_type": "code",
   "execution_count": 3,
   "metadata": {},
   "outputs": [
    {
     "data": {
      "text/plain": [
       "array([[  0,   0,   0,   0,   0,   0],\n",
       "       [  0,   2,   2,   5,   1,   0],\n",
       "       [  1,  11, 108,  52,   4,   0],\n",
       "       [  0,  13,  37,  84,  15,   0],\n",
       "       [  0,   0,   0,  18,  19,   2],\n",
       "       [  0,   0,   0,   2,   2,   0]], dtype=int64)"
      ]
     },
     "execution_count": 3,
     "metadata": {},
     "output_type": "execute_result"
    }
   ],
   "source": [
    "from sklearn.metrics import confusion_matrix\n",
    "\n",
    "confusion_matrix(y_test, nb_test_predictions)"
   ]
  },
  {
   "attachments": {},
   "cell_type": "markdown",
   "metadata": {},
   "source": [
    "### Error and RMSE"
   ]
  },
  {
   "cell_type": "code",
   "execution_count": 5,
   "metadata": {},
   "outputs": [
    {
     "name": "stdout",
     "output_type": "stream",
     "text": [
      "Error of actual value to predicted value:  0.5079365079365079\n",
      "Root Mean Square Error:  0.8099905283919412\n"
     ]
    }
   ],
   "source": [
    "diff = nb_test_predictions - y_test\n",
    "error = np.mean(np.abs(diff))\n",
    "rmse = np.sqrt(np.mean(diff*diff))\n",
    "print(\"Error of actual value to predicted value: \", error)\n",
    "print(\"Root Mean Square Error: \", rmse)"
   ]
  }
 ],
 "metadata": {
  "kernelspec": {
   "display_name": "Python 3",
   "language": "python",
   "name": "python3"
  },
  "language_info": {
   "codemirror_mode": {
    "name": "ipython",
    "version": 3
   },
   "file_extension": ".py",
   "mimetype": "text/x-python",
   "name": "python",
   "nbconvert_exporter": "python",
   "pygments_lexer": "ipython3",
   "version": "3.10.1"
  },
  "orig_nbformat": 4
 },
 "nbformat": 4,
 "nbformat_minor": 2
}
